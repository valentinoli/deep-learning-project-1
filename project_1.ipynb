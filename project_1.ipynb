{
 "cells": [
  {
   "cell_type": "code",
   "execution_count": 1,
   "metadata": {},
   "outputs": [],
   "source": [
    "import torch\n",
    "from torch import nn\n",
    "\n",
    "import dlc_practical_prologue as prologue"
   ]
  },
  {
   "cell_type": "code",
   "execution_count": 2,
   "metadata": {},
   "outputs": [],
   "source": [
    "N=1000\n",
    "epochs=25\n",
    "mini_batch_size = 100"
   ]
  },
  {
   "cell_type": "code",
   "execution_count": 3,
   "metadata": {},
   "outputs": [],
   "source": [
    "train_input, train_target, train_classes, \\\n",
    "test_input, test_target, test_classes = \\\n",
    "    prologue.generate_pair_sets(N)"
   ]
  },
  {
   "cell_type": "code",
   "execution_count": 9,
   "metadata": {},
   "outputs": [],
   "source": [
    "class SharedWeight(nn.Module):\n",
    "    def __init__(self):\n",
    "        super().__init__()\n",
    "        self.cnn = nn.Sequential(\n",
    "            nn.Conv2d(1, 16, kernel_size=3),\n",
    "            nn.MaxPool2d(2, stride=2),\n",
    "            nn.Conv2d(16, 32, kernel_size=3),\n",
    "            nn.MaxPool2d(2, stride=2))\n",
    "        \n",
    "        #predict implicitely the class\n",
    "        self.fc1 = nn.Sequential(\n",
    "            nn.Linear(32 * 2 * 2, 100),\n",
    "            nn.ReLU(inplace=True),\n",
    "            nn.Linear(100, 10),\n",
    "            nn.Softmax(1))\n",
    "        \n",
    "        #predict the output from concatenated classes predictions\n",
    "        self.fc2 = nn.Sequential(\n",
    "            nn.Linear(20, 10),\n",
    "            nn.ReLU(inplace=True),\n",
    "            nn.Linear(10,2),\n",
    "            nn.Softmax(1))\n",
    "        \n",
    "    def forward_once(self, x):\n",
    "        #call the classification block on an individual input\n",
    "        output = self.cnn(x)\n",
    "        output = output.view(output.size()[0], -1)\n",
    "        output = self.fc1(output)\n",
    "        return output\n",
    "    \n",
    "    def forward(self, input1, input2):\n",
    "        #call the network on both input, combine the outputs and final output\n",
    "        output1 = self.forward_once(input1)\n",
    "        output2 = self.forward_once(input2)\n",
    "        output = self.fc2(torch.cat((output1, output2), 1))\n",
    "        return output, output1, output2\n",
    "\n",
    "def train_model(model, input_, target_, classes_=None, learn_rate_= 1e-2, lambda_=0.1, mini_batch_size=100, nb_epochs = 25):\n",
    "    #classification & binary output\n",
    "    criterion = nn.CrossEntropyLoss()\n",
    "    \n",
    "    #stochastic gradient descent\n",
    "    optim = torch.optim.SGD(model.parameters(), lr=learn_rate_, momentum=0.9)\n",
    "\n",
    "    for e in range(nb_epochs):\n",
    "        for b in range(0, input_.size(0), mini_batch_size):\n",
    "            #split the input in two, return the binary value and the classes of both input\n",
    "            output, class_0, class_1 = model(input_.narrow(0, b, mini_batch_size)[:,0,:].unsqueeze(1),\n",
    "                                             input_.narrow(0, b, mini_batch_size)[:,1,:].unsqueeze(1))\n",
    "            \n",
    "            if classes_ is None:\n",
    "                #no auxiliary loss\n",
    "                loss = criterion(output, target_.narrow(0, b, mini_batch_size))\n",
    "            else:\n",
    "                #auxiliary loss\n",
    "                loss = criterion(output, target_.narrow(0, b, mini_batch_size)) \\\n",
    "                        + lambda_*criterion(class_0, classes_.narrow(0, b, mini_batch_size)[:,0]) \\\n",
    "                        + lambda_*criterion(class_1, classes_.narrow(0, b, mini_batch_size)[:,1])\n",
    "            \n",
    "            #backprop\n",
    "            optim.zero_grad()\n",
    "            loss.backward()\n",
    "            optim.step()\n",
    "        print(\"epoch \", e, \" loss : \", loss)\n",
    "        \n",
    "def compute_nb_errors(model, input_, target_, mini_batch_size):\n",
    "    nb_error = 0\n",
    "    \n",
    "    for b in range(0, input_.size(0), mini_batch_size):\n",
    "        output, _, _ = model(input_.narrow(0, b, mini_batch_size)[:,0,:].unsqueeze(1),\n",
    "                       input_.narrow(0, b, mini_batch_size)[:,1,:].unsqueeze(1))\n",
    "        _,pred = output.max(1)\n",
    "        \n",
    "        for k in range(mini_batch_size):\n",
    "            if target_[b+k] != pred[k]:\n",
    "                nb_error += 1\n",
    "                \n",
    "    return nb_error"
   ]
  },
  {
   "cell_type": "code",
   "execution_count": 5,
   "metadata": {},
   "outputs": [],
   "source": [
    "Siamese = SharedWeight()"
   ]
  },
  {
   "cell_type": "code",
   "execution_count": 6,
   "metadata": {},
   "outputs": [
    {
     "name": "stderr",
     "output_type": "stream",
     "text": [
      "/usr/local/lib/python3.6/dist-packages/torch/autograd/__init__.py:132: UserWarning: CUDA initialization: Found no NVIDIA driver on your system. Please check that you have an NVIDIA GPU and installed a driver from http://www.nvidia.com/Download/index.aspx (Triggered internally at  /pytorch/c10/cuda/CUDAFunctions.cpp:100.)\n",
      "  allow_unreachable=True)  # allow_unreachable flag\n"
     ]
    },
    {
     "name": "stdout",
     "output_type": "stream",
     "text": [
      "epoch  0  loss :  tensor(1.1372, grad_fn=<AddBackward0>)\n",
      "epoch  1  loss :  tensor(1.1156, grad_fn=<AddBackward0>)\n",
      "epoch  2  loss :  tensor(1.1019, grad_fn=<AddBackward0>)\n",
      "epoch  3  loss :  tensor(1.0952, grad_fn=<AddBackward0>)\n",
      "epoch  4  loss :  tensor(1.0772, grad_fn=<AddBackward0>)\n",
      "epoch  5  loss :  tensor(1.0743, grad_fn=<AddBackward0>)\n",
      "epoch  6  loss :  tensor(1.0643, grad_fn=<AddBackward0>)\n",
      "epoch  7  loss :  tensor(1.0572, grad_fn=<AddBackward0>)\n",
      "epoch  8  loss :  tensor(1.0533, grad_fn=<AddBackward0>)\n",
      "epoch  9  loss :  tensor(1.0451, grad_fn=<AddBackward0>)\n",
      "epoch  10  loss :  tensor(1.0388, grad_fn=<AddBackward0>)\n",
      "epoch  11  loss :  tensor(1.0315, grad_fn=<AddBackward0>)\n",
      "epoch  12  loss :  tensor(1.0263, grad_fn=<AddBackward0>)\n",
      "epoch  13  loss :  tensor(1.0285, grad_fn=<AddBackward0>)\n",
      "epoch  14  loss :  tensor(1.0118, grad_fn=<AddBackward0>)\n",
      "epoch  15  loss :  tensor(1.0091, grad_fn=<AddBackward0>)\n",
      "epoch  16  loss :  tensor(1.0027, grad_fn=<AddBackward0>)\n",
      "epoch  17  loss :  tensor(0.9825, grad_fn=<AddBackward0>)\n",
      "epoch  18  loss :  tensor(0.9773, grad_fn=<AddBackward0>)\n",
      "epoch  19  loss :  tensor(0.9733, grad_fn=<AddBackward0>)\n",
      "epoch  20  loss :  tensor(0.9514, grad_fn=<AddBackward0>)\n",
      "epoch  21  loss :  tensor(0.9507, grad_fn=<AddBackward0>)\n",
      "epoch  22  loss :  tensor(0.9468, grad_fn=<AddBackward0>)\n",
      "epoch  23  loss :  tensor(0.9380, grad_fn=<AddBackward0>)\n",
      "epoch  24  loss :  tensor(0.9422, grad_fn=<AddBackward0>)\n"
     ]
    }
   ],
   "source": [
    "train_model(Siamese, train_input, train_target, train_classes, learn_rate_= 1e-2, lambda_=0.1, mini_batch_size=mini_batch_size, nb_epochs = 25)"
   ]
  },
  {
   "cell_type": "code",
   "execution_count": 10,
   "metadata": {},
   "outputs": [
    {
     "name": "stdout",
     "output_type": "stream",
     "text": [
      "test error Net 19.90% 199/1000\n"
     ]
    }
   ],
   "source": [
    "nb_test_errors = compute_nb_errors(Siamese, test_input, test_target, mini_batch_size)\n",
    "print('test error Net {:0.2f}% {:d}/{:d}'.format((100 * nb_test_errors) / test_input.size(0),\n",
    "                                                  nb_test_errors, test_input.size(0)))"
   ]
  },
  {
   "cell_type": "code",
   "execution_count": null,
   "metadata": {},
   "outputs": [],
   "source": []
  }
 ],
 "metadata": {
  "kernelspec": {
   "display_name": "Python 3",
   "language": "python",
   "name": "python3"
  },
  "language_info": {
   "codemirror_mode": {
    "name": "ipython",
    "version": 3
   },
   "file_extension": ".py",
   "mimetype": "text/x-python",
   "name": "python",
   "nbconvert_exporter": "python",
   "pygments_lexer": "ipython3",
   "version": "3.6.9"
  }
 },
 "nbformat": 4,
 "nbformat_minor": 5
}
