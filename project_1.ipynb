{
 "cells": [
  {
   "cell_type": "code",
   "execution_count": null,
   "id": "roman-portuguese",
   "metadata": {},
   "outputs": [],
   "source": [
    "import torch\n",
    "from torch import nn\n",
    "from torch.nn import functional as F\n",
    "\n",
    "import dlc_practical_prologue as prologue"
   ]
  },
  {
   "cell_type": "code",
   "execution_count": null,
   "id": "chinese-cooler",
   "metadata": {},
   "outputs": [],
   "source": [
    "N=100\n",
    "epochs=10\n",
    "mini_batch_size = 20"
   ]
  },
  {
   "cell_type": "code",
   "execution_count": null,
   "id": "unauthorized-portfolio",
   "metadata": {},
   "outputs": [],
   "source": [
    "train_input, train_target, train_classes, \\\n",
    "test_input, test_target, test_classes = \\\n",
    "    prologue.generate_pair_sets(N)"
   ]
  },
  {
   "cell_type": "code",
   "execution_count": null,
   "id": "executed-protest",
   "metadata": {},
   "outputs": [],
   "source": [
    "#train_classes = nn.functional.one_hot(train_classes, num_classes=10)\n",
    "#test_classes = nn.functional.one_hot(test_classes, num_classes=10)"
   ]
  },
  {
   "cell_type": "code",
   "execution_count": null,
   "id": "thousand-pitch",
   "metadata": {},
   "outputs": [],
   "source": [
    "#code from practical 4b\n",
    "def leq(x,y):\n",
    "    return x<=y\n",
    "\n",
    "class Net(nn.Module):\n",
    "    def __init__(self, nb_hidden):\n",
    "        super().__init__()\n",
    "        self.cnn1 = nn.Sequential(\n",
    "            nn.Conv2d(1, 20, kernel_size=3),\n",
    "            nn.MaxPool2d(2, stride=2),\n",
    "            nn.Conv2d(20, 50, kernel_size=3),\n",
    "            nn.MaxPool2d(2, stride=2))\n",
    "\n",
    "        self.fc1 = nn.Sequential(\n",
    "            nn.Linear(50 * 2 * 2, 100),\n",
    "            nn.ReLU(inplace=True),\n",
    "            nn.Linear(100, 10))\n",
    "        \n",
    "    def forward_once(self, x):\n",
    "        output = self.cnn1(x)\n",
    "        output = output.view(output.size()[0], -1)\n",
    "        output = self.fc1(output)\n",
    "        return output\n",
    "    \n",
    "    def forward(self, input1, input2):\n",
    "        output1 = self.forward_once(input1)\n",
    "        output2 = self.forward_once(input2)\n",
    "        return output1, output2\n",
    "    \n",
    "def train_model(model, train_input, train_target, mini_batch_size, nb_epochs = 25):\n",
    "    #classification\n",
    "    criterion = nn.CrossEntropyLoss()\n",
    "    eta=1e-1\n",
    "            \n",
    "    for e in range(nb_epochs):\n",
    "        # We do this with mini-batches\n",
    "        for b in range(0, train_input.size(0), mini_batch_size):\n",
    "            output = model(train_input.narrow(0, b, mini_batch_size)[:,0,:].unsqueeze(1),\n",
    "                           train_input.narrow(0, b, mini_batch_size)[:,1,:].unsqueeze(1))\n",
    "            \n",
    "            loss = criterion(output[0], train_target.narrow(0, b, mini_batch_size)[:,0])\n",
    "\n",
    "            model.zero_grad()\n",
    "            loss.backward()\n",
    "\n",
    "            #loss second entry\n",
    "            loss = criterion(output[1], train_target.narrow(0, b, mini_batch_size)[:,1])\n",
    "            \n",
    "            model.zero_grad()\n",
    "            loss.backward()\n",
    "            \n",
    "            print(b)\n",
    "        print(e)\n",
    "        \n",
    "def compute_nb_errors(model, input_, target_, mini_batch_size):\n",
    "    nb_error = 0\n",
    "    \n",
    "    for b in range(0, input_.size(0), mini_batch_size):\n",
    "        output = model(input_.narrow(0, b, mini_batch_size)[:,0,:].unsqueeze(1),\n",
    "                       input_.narrow(0, b, mini_batch_size)[:,1,:].unsqueeze(1))\n",
    "        _,pred_class_0 = output[0].max(1)\n",
    "        _,pred_class_1 = output[1].max(1)\n",
    "\n",
    "        for k in range(mini_batch_size):\n",
    "            if target_[b+k,0] != pred_class_0[k]:\n",
    "                nb_error += 1\n",
    "            if target_[b+k,1] != pred_class_1[k]:\n",
    "                nb_error += 1\n",
    "                \n",
    "    return nb_error\n",
    "\n",
    "# weight sharing -> siamese network "
   ]
  },
  {
   "cell_type": "code",
   "execution_count": null,
   "id": "controlling-sending",
   "metadata": {},
   "outputs": [],
   "source": [
    "model = Net(20)"
   ]
  },
  {
   "cell_type": "code",
   "execution_count": null,
   "id": "respiratory-universe",
   "metadata": {},
   "outputs": [],
   "source": [
    "train_model(model, train_input, train_classes, mini_batch_size)"
   ]
  },
  {
   "cell_type": "code",
   "execution_count": null,
   "id": "checked-symbol",
   "metadata": {},
   "outputs": [],
   "source": [
    "nb_test_errors = compute_nb_errors(model, test_input, test_classes, mini_batch_size)\n",
    "print('test error Net {:0.2f}% {:d}/{:d}'.format((100 * nb_test_errors) / test_input.size(0),\n",
    "                                                  nb_test_errors, test_input.size(0)))"
   ]
  }
 ],
 "metadata": {
  "kernelspec": {
   "display_name": "Python 3",
   "language": "python",
   "name": "python3"
  },
  "language_info": {
   "codemirror_mode": {
    "name": "ipython",
    "version": 3
   },
   "file_extension": ".py",
   "mimetype": "text/x-python",
   "name": "python",
   "nbconvert_exporter": "python",
   "pygments_lexer": "ipython3",
   "version": "3.6.9"
  }
 },
 "nbformat": 4,
 "nbformat_minor": 5
}
