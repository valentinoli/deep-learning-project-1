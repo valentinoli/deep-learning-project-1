{
 "cells": [
  {
   "cell_type": "code",
   "execution_count": 1,
   "metadata": {},
   "outputs": [],
   "source": [
    "import torch\n",
    "from torch import nn\n",
    "from torch.nn import functional as F\n",
    "\n",
    "import dlc_practical_prologue as prologue"
   ]
  },
  {
   "cell_type": "code",
   "execution_count": 45,
   "metadata": {},
   "outputs": [],
   "source": [
    "N=1000\n",
    "epochs=25\n",
    "mini_batch_size = 100"
   ]
  },
  {
   "cell_type": "code",
   "execution_count": 46,
   "metadata": {},
   "outputs": [],
   "source": [
    "train_input, train_target, train_classes, \\\n",
    "test_input, test_target, test_classes = \\\n",
    "    prologue.generate_pair_sets(N)"
   ]
  },
  {
   "cell_type": "code",
   "execution_count": 47,
   "metadata": {},
   "outputs": [],
   "source": [
    "#train_classes = nn.functional.one_hot(train_classes, num_classes=10)\n",
    "#test_classes = nn.functional.one_hot(test_classes, num_classes=10)"
   ]
  },
  {
   "cell_type": "code",
   "execution_count": 48,
   "metadata": {},
   "outputs": [],
   "source": [
    "#code from practical 4b\n",
    "class Net(nn.Module):\n",
    "    def __init__(self, nb_hidden):\n",
    "        super().__init__()\n",
    "        self.cnn1 = nn.Sequential(\n",
    "            nn.Conv2d(1, 16, kernel_size=3),\n",
    "            nn.MaxPool2d(2, stride=2),\n",
    "            nn.Conv2d(16, 32, kernel_size=3),\n",
    "            nn.MaxPool2d(2, stride=2))\n",
    "        \n",
    "        #predict implicitely the class\n",
    "        self.fc1 = nn.Sequential(\n",
    "            nn.Linear(32 * 2 * 2, 100),\n",
    "            nn.ReLU(inplace=True),\n",
    "            nn.Linear(100, 10),\n",
    "            nn.Softmax(1))\n",
    "        \n",
    "        #predict the output\n",
    "        self.fc2 = nn.Sequential(\n",
    "            nn.Linear(20, 10),\n",
    "            nn.ReLU(inplace=True),\n",
    "            nn.Linear(10,2),\n",
    "            nn.Softmax(1))\n",
    "        \n",
    "    def forward_once(self, x):\n",
    "        output = self.cnn1(x)\n",
    "        output = output.view(output.size()[0], -1)\n",
    "        output = self.fc1(output)\n",
    "        return output\n",
    "    \n",
    "    def forward(self, input1, input2):\n",
    "        output1 = self.forward_once(input1)\n",
    "        output2 = self.forward_once(input2)\n",
    "        output = self.fc2(torch.cat((output1, output2), 1))\n",
    "        return output\n",
    "    \n",
    "def train_model(model, train_input, train_target, mini_batch_size, nb_epochs = 25):\n",
    "    #classification\n",
    "    criterion = nn.CrossEntropyLoss()\n",
    "    optim = torch.optim.SGD(model.parameters(), lr=1e-2, momentum=0.9)\n",
    "    eta=1e-1\n",
    "            \n",
    "    for e in range(nb_epochs):\n",
    "        print(e)\n",
    "        # We do this with mini-batches\n",
    "        for b in range(0, train_input.size(0), mini_batch_size):\n",
    "            output = model(train_input.narrow(0, b, mini_batch_size)[:,0,:].unsqueeze(1),\n",
    "                           train_input.narrow(0, b, mini_batch_size)[:,1,:].unsqueeze(1))\n",
    "            \n",
    "            loss = criterion(output, train_target.narrow(0, b, mini_batch_size))\n",
    "            \n",
    "            optim.zero_grad()\n",
    "            loss.backward()\n",
    "            optim.step()\n",
    "        print(loss)\n",
    "\n",
    "        \n",
    "#def compute_nb_errors(model, input_, target_, mini_batch_size):\n",
    "#    nb_error = 0\n",
    "#    \n",
    "#    for b in range(0, input_.size(0), mini_batch_size):\n",
    "#        output = model(input_.narrow(0, b, mini_batch_size)[:,0,:].unsqueeze(1),\n",
    "#                       input_.narrow(0, b, mini_batch_size)[:,1,:].unsqueeze(1))\n",
    "#        _,pred_class_0 = output[0].max(1)\n",
    "#        _,pred_class_1 = output[1].max(1)\n",
    "#\n",
    "#        for k in range(mini_batch_size):\n",
    "#            if target_[b+k,0] != pred_class_0[k]:\n",
    "#                nb_error += 1\n",
    "#            if target_[b+k,1] != pred_class_1[k]:\n",
    "#                nb_error += 1\n",
    "#                \n",
    "#    return nb_error\n",
    "\n",
    "def compute_nb_errors(model, input_, target_, mini_batch_size):\n",
    "    nb_error = 0\n",
    "    \n",
    "    for b in range(0, input_.size(0), mini_batch_size):\n",
    "        output = model(input_.narrow(0, b, mini_batch_size)[:,0,:].unsqueeze(1),\n",
    "                       input_.narrow(0, b, mini_batch_size)[:,1,:].unsqueeze(1))\n",
    "        _,pred = output.max(1)\n",
    "\n",
    "        for k in range(mini_batch_size):\n",
    "            if target_[b+k] != pred[k]:\n",
    "                nb_error += 1\n",
    "                \n",
    "    return nb_error\n",
    "\n",
    "# weight sharing -> siamese network "
   ]
  },
  {
   "cell_type": "code",
   "execution_count": 49,
   "metadata": {},
   "outputs": [],
   "source": [
    "model = Net(20)"
   ]
  },
  {
   "cell_type": "code",
   "execution_count": 50,
   "metadata": {},
   "outputs": [
    {
     "name": "stdout",
     "output_type": "stream",
     "text": [
      "0\n",
      "tensor(0.6917, grad_fn=<NllLossBackward>)\n",
      "1\n",
      "tensor(0.6910, grad_fn=<NllLossBackward>)\n",
      "2\n",
      "tensor(0.6878, grad_fn=<NllLossBackward>)\n",
      "3\n",
      "tensor(0.6872, grad_fn=<NllLossBackward>)\n",
      "4\n",
      "tensor(0.6833, grad_fn=<NllLossBackward>)\n",
      "5\n",
      "tensor(0.6835, grad_fn=<NllLossBackward>)\n",
      "6\n",
      "tensor(0.6799, grad_fn=<NllLossBackward>)\n",
      "7\n",
      "tensor(0.6774, grad_fn=<NllLossBackward>)\n",
      "8\n",
      "tensor(0.6698, grad_fn=<NllLossBackward>)\n",
      "9\n",
      "tensor(0.6598, grad_fn=<NllLossBackward>)\n",
      "10\n",
      "tensor(0.6585, grad_fn=<NllLossBackward>)\n",
      "11\n",
      "tensor(0.6577, grad_fn=<NllLossBackward>)\n",
      "12\n",
      "tensor(0.6461, grad_fn=<NllLossBackward>)\n",
      "13\n",
      "tensor(0.6206, grad_fn=<NllLossBackward>)\n",
      "14\n",
      "tensor(0.6146, grad_fn=<NllLossBackward>)\n",
      "15\n",
      "tensor(0.6134, grad_fn=<NllLossBackward>)\n",
      "16\n",
      "tensor(0.5866, grad_fn=<NllLossBackward>)\n",
      "17\n",
      "tensor(0.5874, grad_fn=<NllLossBackward>)\n",
      "18\n",
      "tensor(0.5700, grad_fn=<NllLossBackward>)\n",
      "19\n",
      "tensor(0.5739, grad_fn=<NllLossBackward>)\n",
      "20\n",
      "tensor(0.6009, grad_fn=<NllLossBackward>)\n",
      "21\n",
      "tensor(0.5605, grad_fn=<NllLossBackward>)\n",
      "22\n",
      "tensor(0.5326, grad_fn=<NllLossBackward>)\n",
      "23\n",
      "tensor(0.5168, grad_fn=<NllLossBackward>)\n",
      "24\n",
      "tensor(0.5018, grad_fn=<NllLossBackward>)\n"
     ]
    }
   ],
   "source": [
    "train_model(model, train_input, train_target, mini_batch_size)"
   ]
  },
  {
   "cell_type": "code",
   "execution_count": 51,
   "metadata": {},
   "outputs": [
    {
     "name": "stdout",
     "output_type": "stream",
     "text": [
      "test error Net 23.80% 238/1000\n"
     ]
    }
   ],
   "source": [
    "nb_test_errors = compute_nb_errors(model, test_input, test_target, mini_batch_size)\n",
    "print('test error Net {:0.2f}% {:d}/{:d}'.format((100 * nb_test_errors) / test_input.size(0),\n",
    "                                                  nb_test_errors, test_input.size(0)))"
   ]
  },
  {
   "cell_type": "code",
   "execution_count": null,
   "metadata": {},
   "outputs": [],
   "source": []
  }
 ],
 "metadata": {
  "kernelspec": {
   "display_name": "Python 3",
   "language": "python",
   "name": "python3"
  },
  "language_info": {
   "codemirror_mode": {
    "name": "ipython",
    "version": 3
   },
   "file_extension": ".py",
   "mimetype": "text/x-python",
   "name": "python",
   "nbconvert_exporter": "python",
   "pygments_lexer": "ipython3",
   "version": "3.6.9"
  }
 },
 "nbformat": 4,
 "nbformat_minor": 5
}
