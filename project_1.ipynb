{
 "cells": [
  {
   "cell_type": "code",
   "execution_count": 82,
   "metadata": {},
   "outputs": [],
   "source": [
    "import torch\n",
    "from torch import nn\n",
    "\n",
    "import dlc_practical_prologue as prologue"
   ]
  },
  {
   "cell_type": "code",
   "execution_count": 83,
   "metadata": {},
   "outputs": [],
   "source": [
    "N=1000\n",
    "epochs=25\n",
    "mini_batch_size = 100"
   ]
  },
  {
   "cell_type": "code",
   "execution_count": 84,
   "metadata": {},
   "outputs": [],
   "source": [
    "train_input, train_target, train_classes, \\\n",
    "test_input, test_target, test_classes = \\\n",
    "    prologue.generate_pair_sets(N)"
   ]
  },
  {
   "cell_type": "code",
   "execution_count": 95,
   "metadata": {},
   "outputs": [],
   "source": [
    "class SharedWeight(nn.Module):\n",
    "    def __init__(self):\n",
    "        super().__init__()\n",
    "        self.cnn = nn.Sequential(\n",
    "            nn.Conv2d(1, 16, kernel_size=3),\n",
    "            nn.MaxPool2d(2, stride=2),\n",
    "            nn.Conv2d(16, 32, kernel_size=3),\n",
    "            nn.MaxPool2d(2, stride=2))\n",
    "        \n",
    "        #predict implicitely the class\n",
    "        self.fc1 = nn.Sequential(\n",
    "            nn.Linear(32 * 2 * 2, 100),\n",
    "            nn.ReLU(inplace=True),\n",
    "            nn.Linear(100, 10),\n",
    "            nn.Softmax(1))\n",
    "        \n",
    "        #predict the output from concatenated classes predictions\n",
    "        self.fc2 = nn.Sequential(\n",
    "            nn.Linear(20, 10),\n",
    "            nn.ReLU(inplace=True),\n",
    "            nn.Linear(10,2),\n",
    "            nn.Softmax(1))\n",
    "        \n",
    "    def forward_once(self, x):\n",
    "        #call the classification block on an individual input\n",
    "        output = self.cnn(x)\n",
    "        output = output.view(output.size()[0], -1)\n",
    "        output = self.fc1(output)\n",
    "        return output\n",
    "    \n",
    "    def forward(self, input1, input2):\n",
    "        #call the network on both input, combine the outputs and final output\n",
    "        output1 = self.forward_once(input1)\n",
    "        output2 = self.forward_once(input2)\n",
    "        output = self.fc2(torch.cat((output1, output2), 1))\n",
    "        return output, output1, output2\n",
    "\n",
    "def train_model(model, input_, target_, classes_=None, learn_rate_= 1e-2, lambda_=0.1, mini_batch_size=100, nb_epochs = 25):\n",
    "    #classification & binary output\n",
    "    criterion = nn.CrossEntropyLoss()\n",
    "    \n",
    "    #stochastic gradient descent\n",
    "    optim = torch.optim.SGD(model.parameters(), lr=learn_rate_, momentum=0.9)\n",
    "\n",
    "    for e in range(nb_epochs):\n",
    "        for b in range(0, input_.size(0), mini_batch_size):\n",
    "            #split the input in two, return the binary value and the classes of both input\n",
    "            output, class_0, class_1 = model(input_.narrow(0, b, mini_batch_size)[:,0,:].unsqueeze(1),\n",
    "                                             input_.narrow(0, b, mini_batch_size)[:,1,:].unsqueeze(1))\n",
    "            \n",
    "            if classes_ is None:\n",
    "                #no auxiliary loss\n",
    "                loss = criterion(output, target_.narrow(0, b, mini_batch_size))\n",
    "            else:\n",
    "                #auxiliary loss\n",
    "                loss = criterion(output, target_.narrow(0, b, mini_batch_size)) \\\n",
    "                        + lambda_*criterion(class_0, classes_.narrow(0, b, mini_batch_size)[:,0]) \\\n",
    "                        + lambda_*criterion(class_1, classes_.narrow(0, b, mini_batch_size)[:,1])\n",
    "            \n",
    "            #backprop\n",
    "            optim.zero_grad()\n",
    "            loss.backward()\n",
    "            optim.step()\n",
    "        print(\"epoch \", e, \" loss : \", loss)"
   ]
  },
  {
   "cell_type": "code",
   "execution_count": 96,
   "metadata": {},
   "outputs": [],
   "source": [
    "Siamese = SharedWeight()"
   ]
  },
  {
   "cell_type": "code",
   "execution_count": 97,
   "metadata": {},
   "outputs": [
    {
     "name": "stdout",
     "output_type": "stream",
     "text": [
      "epoch  0  loss :  tensor(1.1361, grad_fn=<AddBackward0>)\n",
      "epoch  1  loss :  tensor(1.1237, grad_fn=<AddBackward0>)\n",
      "epoch  2  loss :  tensor(1.1240, grad_fn=<AddBackward0>)\n",
      "epoch  3  loss :  tensor(1.1192, grad_fn=<AddBackward0>)\n",
      "epoch  4  loss :  tensor(1.1166, grad_fn=<AddBackward0>)\n",
      "epoch  5  loss :  tensor(1.1145, grad_fn=<AddBackward0>)\n",
      "epoch  6  loss :  tensor(1.1122, grad_fn=<AddBackward0>)\n",
      "epoch  7  loss :  tensor(1.1093, grad_fn=<AddBackward0>)\n",
      "epoch  8  loss :  tensor(1.1060, grad_fn=<AddBackward0>)\n",
      "epoch  9  loss :  tensor(1.1043, grad_fn=<AddBackward0>)\n",
      "epoch  10  loss :  tensor(1.1015, grad_fn=<AddBackward0>)\n",
      "epoch  11  loss :  tensor(1.1196, grad_fn=<AddBackward0>)\n",
      "epoch  12  loss :  tensor(1.0982, grad_fn=<AddBackward0>)\n",
      "epoch  13  loss :  tensor(1.0946, grad_fn=<AddBackward0>)\n",
      "epoch  14  loss :  tensor(1.1074, grad_fn=<AddBackward0>)\n",
      "epoch  15  loss :  tensor(1.0925, grad_fn=<AddBackward0>)\n",
      "epoch  16  loss :  tensor(1.0773, grad_fn=<AddBackward0>)\n",
      "epoch  17  loss :  tensor(1.0618, grad_fn=<AddBackward0>)\n",
      "epoch  18  loss :  tensor(1.0628, grad_fn=<AddBackward0>)\n",
      "epoch  19  loss :  tensor(1.0436, grad_fn=<AddBackward0>)\n",
      "epoch  20  loss :  tensor(1.0342, grad_fn=<AddBackward0>)\n",
      "epoch  21  loss :  tensor(1.0314, grad_fn=<AddBackward0>)\n",
      "epoch  22  loss :  tensor(1.0068, grad_fn=<AddBackward0>)\n",
      "epoch  23  loss :  tensor(1.0034, grad_fn=<AddBackward0>)\n",
      "epoch  24  loss :  tensor(1.0238, grad_fn=<AddBackward0>)\n"
     ]
    }
   ],
   "source": [
    "train_model(Siamese, train_input, train_target, train_classes, learn_rate_= 1e-2, lambda_=0.1, mini_batch_size=mini_batch_size, nb_epochs = 25)"
   ]
  },
  {
   "cell_type": "code",
   "execution_count": 98,
   "metadata": {},
   "outputs": [
    {
     "name": "stdout",
     "output_type": "stream",
     "text": [
      "test error Net 25.00% 250/1000\n"
     ]
    }
   ],
   "source": [
    "nb_test_errors = compute_nb_errors(Siamese_auxi, test_input, test_target, mini_batch_size)\n",
    "print('test error Net {:0.2f}% {:d}/{:d}'.format((100 * nb_test_errors) / test_input.size(0),\n",
    "                                                  nb_test_errors, test_input.size(0)))"
   ]
  }
 ],
 "metadata": {
  "kernelspec": {
   "display_name": "Python 3",
   "language": "python",
   "name": "python3"
  },
  "language_info": {
   "codemirror_mode": {
    "name": "ipython",
    "version": 3
   },
   "file_extension": ".py",
   "mimetype": "text/x-python",
   "name": "python",
   "nbconvert_exporter": "python",
   "pygments_lexer": "ipython3",
   "version": "3.6.9"
  }
 },
 "nbformat": 4,
 "nbformat_minor": 5
}
