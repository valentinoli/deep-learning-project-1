{
 "cells": [
  {
   "cell_type": "code",
   "execution_count": 34,
   "metadata": {},
   "outputs": [],
   "source": [
    "import torch\n",
    "from torch import nn\n",
    "import numpy as np\n",
    "import dlc_practical_prologue as prologue"
   ]
  },
  {
   "cell_type": "code",
   "execution_count": 25,
   "metadata": {},
   "outputs": [],
   "source": [
    "N=1000\n",
    "epochs=25\n",
    "mini_batch_size = 100"
   ]
  },
  {
   "cell_type": "code",
   "execution_count": 26,
   "metadata": {},
   "outputs": [],
   "source": [
    "train_input, train_target, train_classes, \\\n",
    "test_input, test_target, test_classes = \\\n",
    "    prologue.generate_pair_sets(N)"
   ]
  },
  {
   "cell_type": "code",
   "execution_count": 31,
   "metadata": {},
   "outputs": [],
   "source": [
    "class SharedWeight(nn.Module):\n",
    "    def __init__(self):\n",
    "        super().__init__()\n",
    "        self.cnn = nn.Sequential(\n",
    "            nn.Conv2d(1, 16, kernel_size=3),\n",
    "            nn.MaxPool2d(2, stride=2),\n",
    "            nn.Conv2d(16, 32, kernel_size=3),\n",
    "            nn.MaxPool2d(2, stride=2))\n",
    "            #nn.Conv2d(32, 64, kernel_size=3),\n",
    "            #nn.MaxPool2d(2, stride=2))\n",
    "        \n",
    "        #predict implicitely the class\n",
    "        self.fc1 = nn.Sequential(\n",
    "            nn.Linear(32 * 2 * 2, 100),\n",
    "            nn.ReLU(inplace=True),\n",
    "            nn.Linear(100, 10),\n",
    "            nn.Softmax(1))\n",
    "        \n",
    "        #predict the output from concatenated classes predictions\n",
    "        self.fc2 = nn.Sequential(\n",
    "            nn.Linear(20, 10),\n",
    "            nn.ReLU(inplace=True),\n",
    "            nn.Linear(10,2),\n",
    "            nn.Softmax(1))\n",
    "        \n",
    "    def forward_once(self, x):\n",
    "        #call the classification block on an individual input\n",
    "        output = self.cnn(x)\n",
    "        output = output.view(output.size()[0], -1)\n",
    "        output = self.fc1(output)\n",
    "        return output\n",
    "    \n",
    "    def forward(self, input1, input2):\n",
    "        #call the network on both input, combine the outputs and final output\n",
    "        output1 = self.forward_once(input1)\n",
    "        output2 = self.forward_once(input2)\n",
    "        output = self.fc2(torch.cat((output1, output2), 1))\n",
    "        return output, output1, output2\n",
    "\n",
    "def train_model(model, input_, target_, classes_=None, learn_rate_= 1e-2, lambda_=0.1, mini_batch_size=100, nb_epochs = 25):\n",
    "    #classification & binary output\n",
    "    criterion = nn.CrossEntropyLoss()\n",
    "    \n",
    "    #stochastic gradient descent\n",
    "    optim = torch.optim.SGD(model.parameters(), lr=learn_rate_, momentum=0.9)\n",
    "\n",
    "    for e in range(nb_epochs):\n",
    "        for b in range(0, input_.size(0), mini_batch_size):\n",
    "            #split the input in two, return the binary value and the classes of both input\n",
    "            output, class_0, class_1 = model(input_.narrow(0, b, mini_batch_size)[:,0,:].unsqueeze(1),\n",
    "                                             input_.narrow(0, b, mini_batch_size)[:,1,:].unsqueeze(1))\n",
    "            \n",
    "            if classes_ is None:\n",
    "                #no auxiliary loss\n",
    "                loss = criterion(output, target_.narrow(0, b, mini_batch_size))\n",
    "            else:\n",
    "                #auxiliary loss\n",
    "                loss = criterion(output, target_.narrow(0, b, mini_batch_size)) \\\n",
    "                        + lambda_*criterion(class_0, classes_.narrow(0, b, mini_batch_size)[:,0]) \\\n",
    "                        + lambda_*criterion(class_1, classes_.narrow(0, b, mini_batch_size)[:,1])\n",
    "            \n",
    "            #backprop\n",
    "            optim.zero_grad()\n",
    "            loss.backward()\n",
    "            optim.step()\n",
    "    return loss\n",
    "        \n",
    "def compute_nb_errors(model, input_, target_, mini_batch_size):\n",
    "    nb_error = 0\n",
    "    \n",
    "    for b in range(0, input_.size(0), mini_batch_size):\n",
    "        output, _, _ = model(input_.narrow(0, b, mini_batch_size)[:,0,:].unsqueeze(1),\n",
    "                       input_.narrow(0, b, mini_batch_size)[:,1,:].unsqueeze(1))\n",
    "        _,pred = output.max(1)\n",
    "        \n",
    "        for k in range(mini_batch_size):\n",
    "            if target_[b+k] != pred[k]:\n",
    "                nb_error += 1\n",
    "                \n",
    "    return nb_error"
   ]
  },
  {
   "cell_type": "code",
   "execution_count": 28,
   "metadata": {},
   "outputs": [],
   "source": [
    "Siamese = SharedWeight()"
   ]
  },
  {
   "cell_type": "code",
   "execution_count": null,
   "metadata": {},
   "outputs": [],
   "source": [
    "train_model(Siamese, train_input, train_target, train_classes, learn_rate_= 2e-2, lambda_=2e-2, mini_batch_size=mini_batch_size, nb_epochs = 25)"
   ]
  },
  {
   "cell_type": "code",
   "execution_count": null,
   "metadata": {},
   "outputs": [],
   "source": [
    "nb_test_errors = compute_nb_errors(Siamese, test_input, test_target, mini_batch_size)\n",
    "print('test error Net {:0.2f}% {:d}/{:d}'.format((100 * nb_test_errors) / test_input.size(0),\n",
    "                                                  nb_test_errors, test_input.size(0)))"
   ]
  },
  {
   "cell_type": "code",
   "execution_count": 61,
   "metadata": {},
   "outputs": [],
   "source": [
    "#learn_rates = np.geomspace(1e-4, 4e-2,10)\n",
    "lambdas = np.geomspace(1e-4, 1e-1,10)\n",
    "losses_train = []\n",
    "train_error = []\n",
    "test_error = []\n",
    "#for lr in learn_rates:\n",
    "for lbd in lambdas:\n",
    "    Siamese = SharedWeight()\n",
    "    losses_train.append(train_model(Siamese, train_input, train_target, train_classes, learn_rate_= 2e-2, lambda_=2e-2, mini_batch_size=mini_batch_size, nb_epochs = 25))\n",
    "    train_error.append(compute_nb_errors(Siamese, train_input, train_target, mini_batch_size))\n",
    "    test_error.append(compute_nb_errors(Siamese, test_input, test_target, mini_batch_size))"
   ]
  },
  {
   "cell_type": "code",
   "execution_count": 62,
   "metadata": {},
   "outputs": [
    {
     "data": {
      "image/png": "[encoded data removed]",
      "text/plain": [
       "<Figure size 432x288 with 1 Axes>"
      ]
     },
     "metadata": {
      "needs_background": "light"
     },
     "output_type": "display_data"
    }
   ],
   "source": [
    "import matplotlib.pyplot as plt\n",
    "fig = plt.figure()\n",
    "plt.plot(learn_rates, train_error,c='steelblue',label=\"train_error\", marker='x')\n",
    "plt.plot(learn_rates, test_error,c='forestgreen', label=\"test_error\", marker='x')\n",
    "plt.title(\"learn_rate optimization\")\n",
    "plt.xlabel(\"lambda\")\n",
    "plt.ylabel(\"nb error\")\n",
    "plt.legend()\n",
    "plt.show()\n",
    "fig.savefig(\"lambda_opti.png\") # Use fig. here"
   ]
  },
  {
   "cell_type": "code",
   "execution_count": 64,
   "metadata": {},
   "outputs": [
    {
     "data": {
      "text/plain": [
       "0.020556170656043912"
      ]
     },
     "execution_count": 64,
     "metadata": {},
     "output_type": "execute_result"
    }
   ],
   "source": [
    "idx_opt_lr = np.argmin(train_error)\n",
    "learn_rates[idx_opt_lr]"
   ]
  },
  {
   "cell_type": "code",
   "execution_count": null,
   "metadata": {},
   "outputs": [],
   "source": []
  }
 ],
 "metadata": {
  "kernelspec": {
   "display_name": "Python 3",
   "language": "python",
   "name": "python3"
  },
  "language_info": {
   "codemirror_mode": {
    "name": "ipython",
    "version": 3
   },
   "file_extension": ".py",
   "mimetype": "text/x-python",
   "name": "python",
   "nbconvert_exporter": "python",
   "pygments_lexer": "ipython3",
   "version": "3.6.9"
  }
 },
 "nbformat": 4,
 "nbformat_minor": 5
}
