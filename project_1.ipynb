{
 "cells": [
  {
   "cell_type": "code",
   "execution_count": 1,
   "id": "98ed80b1",
   "metadata": {},
   "outputs": [],
   "source": [
    "import torch\n",
    "from torch import nn\n",
    "import dlc_practical_prologue as prologue\n",
    "import matplotlib.pyplot as plt\n",
    "\n",
    "##tmp\n",
    "import numpy as np"
   ]
  },
  {
   "cell_type": "code",
   "execution_count": 2,
   "id": "aac06bf3",
   "metadata": {},
   "outputs": [],
   "source": [
    "N=1000\n",
    "epochs=25\n",
    "mini_batch_size = 100"
   ]
  },
  {
   "cell_type": "code",
   "execution_count": 3,
   "id": "828418dc",
   "metadata": {},
   "outputs": [],
   "source": [
    "class NaiveCNN(nn.Module):\n",
    "    def __init__(self, hidden_layer=2):\n",
    "        super().__init__()\n",
    "        self.cnn = nn.Sequential(\n",
    "            nn.Conv2d(1, 32, kernel_size=3, padding=1),\n",
    "            nn.MaxPool2d(2, stride=2),\n",
    "            nn.Conv2d(32, 64, kernel_size=3, padding=1),\n",
    "            nn.MaxPool2d(2, stride=2))\n",
    "             \n",
    "        #predict implicitely the class of input1 and input2 separately\n",
    "        classif=[nn.Linear(64*3*3, 100),\n",
    "                 nn.ReLU(inplace=True)]\n",
    "        \n",
    "        if hidden_layer == 1:\n",
    "            classif.append(nn.Linear(100, 50))\n",
    "            classif.append(nn.ReLU(inplace=True))\n",
    "        elif hidden_layer == 2:\n",
    "            classif.append(nn.Linear(100, 70))\n",
    "            classif.append(nn.ReLU(inplace=True))\n",
    "            classif.append(nn.Linear(70, 50))\n",
    "            classif.append(nn.ReLU(inplace=True))\n",
    "\n",
    "        classif.append(nn.Linear(50, 10))\n",
    "        \n",
    "        self.fc1 = nn.Sequential(*classif)\n",
    "        self.fc2 = nn.Sequential(*classif)\n",
    "        \n",
    "        #predict the output from concatenated classes predictions\n",
    "        self.fc3 = nn.Sequential(\n",
    "            nn.Linear(20, 10),\n",
    "            nn.ReLU(inplace=True),\n",
    "            nn.Linear(10,2),\n",
    "            nn.Softmax(1))\n",
    "            \n",
    "    def forward(self, input_):\n",
    "        #call the network on both input\n",
    "        output1 = self.cnn(input_[:,0,:].unsqueeze(1))\n",
    "        output2 = self.cnn(input_[:,0,:].unsqueeze(1))\n",
    "        \n",
    "        #reshape\n",
    "        output1 = output1.view(output1.size()[0], -1)\n",
    "        output2 = output2.view(output2.size()[0], -1)\n",
    "        \n",
    "        #predict class implicitely, using 2 different network\n",
    "        output1 = self.fc1(output1)\n",
    "        output2 = self.fc2(output2)\n",
    "        \n",
    "        #predict binary output\n",
    "        output = self.fc3(torch.cat((output1, output2), 1))\n",
    "        return output, output1, output2\n",
    "    \n",
    "class SharedWeight(nn.Module):\n",
    "    def __init__(self, hidden_layer=0):\n",
    "        super().__init__()\n",
    "        self.cnn = nn.Sequential(\n",
    "            nn.Conv2d(1, 32, kernel_size=3, padding=1),\n",
    "            nn.MaxPool2d(2, stride=2),\n",
    "            nn.Conv2d(32, 64, kernel_size=3, padding=1),\n",
    "            nn.MaxPool2d(2, stride=2))\n",
    "        \n",
    "        #predict implicitely the class of both image\n",
    "        classif=[nn.Linear(64*3*3, 100),\n",
    "                 nn.ReLU(inplace=True)]\n",
    "        \n",
    "        if hidden_layer == 1:\n",
    "            classif.append(nn.Linear(100, 50))\n",
    "            classif.append(nn.ReLU(inplace=True))\n",
    "        elif hidden_layer == 2:\n",
    "            classif.append(nn.Linear(100, 70))\n",
    "            classif.append(nn.ReLU(inplace=True))\n",
    "            classif.append(nn.Linear(70, 50))\n",
    "            classif.append(nn.ReLU(inplace=True))\n",
    "            \n",
    "        classif.append(nn.Linear(50, 10))\n",
    "        self.fc1 = nn.Sequential(*classif)\n",
    "        \n",
    "        #predict the output from concatenated classes predictions\n",
    "        self.fc2 = nn.Sequential(\n",
    "            nn.Linear(20, 10),\n",
    "            nn.ReLU(inplace=True),\n",
    "            nn.Linear(10,2),\n",
    "            nn.Softmax(1))\n",
    "            \n",
    "    def forward_once(self, x):\n",
    "        #call the classification block on an individual input\n",
    "        output = self.cnn(x)\n",
    "        output = output.view(output.size()[0], -1)\n",
    "        output = self.fc1(output)\n",
    "        return output\n",
    "    \n",
    "    def forward(self, input_):\n",
    "        #call the network on both input, combine the outputs and final output\n",
    "        output1 = self.forward_once(input_[:,0,:].unsqueeze(1))\n",
    "        output2 = self.forward_once(input_[:,1,:].unsqueeze(1))\n",
    "        output = self.fc2(torch.cat((output1, output2), 1))\n",
    "        return output, output1, output2\n",
    "\n",
    "def train_model(model, input_, target_, classes_=None, learn_rate_= 1e-2, lambda_=0.1, mini_batch_size=100, nb_epochs = 25):\n",
    "    #classification & binary output\n",
    "    criterion = nn.CrossEntropyLoss()\n",
    "    \n",
    "    #stochastic gradient descent\n",
    "    optim = torch.optim.SGD(model.parameters(), lr=learn_rate_, momentum=0.9)\n",
    "\n",
    "    for e in range(nb_epochs):\n",
    "        for b in range(0, input_.size(0), mini_batch_size):\n",
    "            #split the input in two, return the binary value and the classes of both input\n",
    "            output, class_0, class_1 = model(input_.narrow(0, b, mini_batch_size))\n",
    "            \n",
    "            if classes_ is None:\n",
    "                #no auxiliary loss\n",
    "                loss = criterion(output, target_.narrow(0, b, mini_batch_size))\n",
    "            else:\n",
    "                #auxiliary loss\n",
    "                loss = criterion(output, target_.narrow(0, b, mini_batch_size)) \\\n",
    "                        + lambda_*criterion(class_0, classes_.narrow(0, b, mini_batch_size)[:,0]) \\\n",
    "                        + lambda_*criterion(class_1, classes_.narrow(0, b, mini_batch_size)[:,1])\n",
    "            \n",
    "            #backprop\n",
    "            optim.zero_grad()\n",
    "            loss.backward()\n",
    "            optim.step()\n",
    "    return loss\n",
    "        \n",
    "def compute_nb_errors(model, input_, target_, mini_batch_size):\n",
    "    nb_error = 0\n",
    "    \n",
    "    for b in range(0, input_.size(0), mini_batch_size):\n",
    "        output, _, _ = model(input_.narrow(0, b, mini_batch_size))\n",
    "        _,pred = output.max(1)\n",
    "        \n",
    "        for k in range(mini_batch_size):\n",
    "            if target_[b+k] != pred[k]:\n",
    "                nb_error += 1\n",
    "                \n",
    "    return nb_error"
   ]
  },
  {
   "cell_type": "code",
   "execution_count": 4,
   "id": "f1c6b7e0",
   "metadata": {},
   "outputs": [],
   "source": [
    "learn_rates = np.logspace(-4, -1,15)\n",
    "train_error = []\n",
    "test_error = []\n",
    "lbd = 0.23\n",
    "for lr in learn_rates:\n",
    "    Siamese = SharedWeight(1)\n",
    "    train_input, train_target, train_classes, \\\n",
    "    test_input, test_target, test_classes = \\\n",
    "    prologue.generate_pair_sets(N)\n",
    "    train_model(Siamese, train_input, train_target, train_classes, learn_rate_= lr, lambda_=lbd, mini_batch_size=mini_batch_size, nb_epochs = 25)\n",
    "    train_error.append(compute_nb_errors(Siamese, train_input, train_target, mini_batch_size))\n",
    "    test_error.append(compute_nb_errors(Siamese, test_input, test_target, mini_batch_size))"
   ]
  },
  {
   "cell_type": "code",
   "execution_count": 17,
   "id": "a2b72167",
   "metadata": {},
   "outputs": [
    {
     "data": {
      "image/png": "[encoded data removed]",
      "text/plain": [
       "<Figure size 432x288 with 1 Axes>"
      ]
     },
     "metadata": {
      "needs_background": "light"
     },
     "output_type": "display_data"
    }
   ],
   "source": [
    "fig = plt.figure()\n",
    "plt.semilogx(learn_rates, train_error,c='steelblue',label=\"train_error\", marker='x')\n",
    "plt.semilogx(learn_rates, test_error,c='orangered', label=\"test_error\", marker='x')\n",
    "plt.title(\"Siamese network with auxi. loss learning rate optimization\")\n",
    "plt.xlabel(\"learning rate\")\n",
    "plt.ylabel(\"nb error\")\n",
    "plt.legend()\n",
    "plt.show()\n",
    "fig.savefig(\"siame_auxi_lr.pdf\") # Use fig. here"
   ]
  },
  {
   "cell_type": "code",
   "execution_count": 18,
   "id": "138aa747",
   "metadata": {},
   "outputs": [
    {
     "data": {
      "text/plain": [
       "0.0031622776601683794"
      ]
     },
     "execution_count": 18,
     "metadata": {},
     "output_type": "execute_result"
    }
   ],
   "source": [
    "learn_rates[np.argmin(test_error)]"
   ]
  },
  {
   "cell_type": "code",
   "execution_count": null,
   "id": "6999c263",
   "metadata": {},
   "outputs": [],
   "source": [
    "lambdas = np.logspace(-2, 0,20)\n",
    "losses_train = []\n",
    "train_error = []\n",
    "test_error = []\n",
    "lbd = 0.1\n",
    "for lbd in lambdas:\n",
    "    Siamese = SharedWeight(1)\n",
    "    train_input, train_target, train_classes, \\\n",
    "    test_input, test_target, test_classes = \\\n",
    "    prologue.generate_pair_sets(N)\n",
    "    losses_train.append(train_model(Siamese, train_input, train_target, train_classes, learn_rate_= 2e-2, lambda_=lbd, mini_batch_size=mini_batch_size, nb_epochs = 25))\n",
    "    train_error.append(compute_nb_errors(Siamese, train_input, train_target, mini_batch_size))\n",
    "    test_error.append(compute_nb_errors(Siamese, test_input, test_target, mini_batch_size))"
   ]
  },
  {
   "cell_type": "code",
   "execution_count": null,
   "id": "71cd95c7",
   "metadata": {},
   "outputs": [],
   "source": [
    "fig = plt.figure()\n",
    "plt.semilogx(lambdas, train_error,c='steelblue',label=\"train_error\", marker='x')\n",
    "plt.semilogx(lambdas, test_error,c='orangered', label=\"test_error\", marker='x')\n",
    "plt.title(\"Siamese network regularization optimization\")\n",
    "plt.xlabel(\"lambda\")\n",
    "plt.ylabel(\"nb error\")\n",
    "plt.legend()\n",
    "plt.show()\n",
    "fig.savefig(\"siame_auxi_lambda.pdf\") # Use fig. here"
   ]
  },
  {
   "cell_type": "code",
   "execution_count": null,
   "id": "79ed90db",
   "metadata": {},
   "outputs": [],
   "source": [
    "lambdas[np.argmin(test_error)]"
   ]
  },
  {
   "cell_type": "code",
   "execution_count": 19,
   "id": "806923e0",
   "metadata": {},
   "outputs": [],
   "source": [
    "#generate boxplot across models\n",
    "SIAM_auxi_train_error = []\n",
    "SIAM_auxi_test_error = []\n",
    "SIAM_train_error = []\n",
    "SIAM_test_error = []\n",
    "NAIVE_train_error = []\n",
    "NAIVE_test_error = []\n",
    "SIAM_auxi_5_train_error = []\n",
    "SIAM_auxi_5_test_error = []\n",
    "\n",
    "for i in range(10):\n",
    "    train_input, train_target, train_classes, \\\n",
    "    test_input, test_target, test_classes = \\\n",
    "    prologue.generate_pair_sets(N)\n",
    "    \n",
    "    NaiveCN = NaiveCNN(1)\n",
    "    Siamese = SharedWeight(1)\n",
    "    Siamese_auxi = SharedWeight(1)\n",
    "    Siamese_auxi_5 = SharedWeight(2)\n",
    "    \n",
    "    train_model(NaiveCN, train_input, train_target, learn_rate_= 1.6e-3, lambda_=0, mini_batch_size=mini_batch_size, nb_epochs = 25)\n",
    "    train_model(Siamese, train_input, train_target, learn_rate_= 1.6e-3, lambda_=0, mini_batch_size=mini_batch_size, nb_epochs = 25)\n",
    "    train_model(Siamese_auxi, train_input, train_target, train_classes, learn_rate_= 3.1e-3, lambda_=0.23, mini_batch_size=mini_batch_size, nb_epochs = 25)\n",
    "    train_model(Siamese_auxi_5, train_input, train_target, train_classes, learn_rate_= 1.2e-2, lambda_=0.23, mini_batch_size=mini_batch_size, nb_epochs = 25)\n",
    "    \n",
    "    SIAM_auxi_5_train_error.append(compute_nb_errors(Siamese_auxi_5, train_input, train_target, mini_batch_size))\n",
    "    SIAM_auxi_5_test_error.append(compute_nb_errors(Siamese_auxi_5, test_input, test_target, mini_batch_size))\n",
    "    SIAM_auxi_train_error.append(compute_nb_errors(Siamese_auxi, train_input, train_target, mini_batch_size))\n",
    "    SIAM_auxi_test_error.append(compute_nb_errors(Siamese_auxi, test_input, test_target, mini_batch_size))\n",
    "    SIAM_train_error.append(compute_nb_errors(Siamese, train_input, train_target, mini_batch_size))\n",
    "    SIAM_test_error.append(compute_nb_errors(Siamese, test_input, test_target, mini_batch_size))\n",
    "    NAIVE_train_error.append(compute_nb_errors(NaiveCN, train_input, train_target, mini_batch_size))\n",
    "    NAIVE_test_error.append(compute_nb_errors(NaiveCN, test_input, test_target, mini_batch_size))"
   ]
  },
  {
   "cell_type": "code",
   "execution_count": 24,
   "id": "1b9aa6af",
   "metadata": {
    "scrolled": false
   },
   "outputs": [
    {
     "data": {
      "image/png": "[encoded data removed]",
      "text/plain": [
       "<Figure size 960x480 with 1 Axes>"
      ]
     },
     "metadata": {
      "needs_background": "light"
     },
     "output_type": "display_data"
    }
   ],
   "source": [
    "fig = plt.figure(figsize=(12, 6), dpi=80)\n",
    "vals =[np.array(NAIVE_train_error)/10,\n",
    "       np.array(NAIVE_test_error)/10,\n",
    "       np.array(SIAM_train_error)/10,\n",
    "       np.array(SIAM_test_error)/10,\n",
    "       np.array(SIAM_auxi_train_error)/10,\n",
    "       np.array(SIAM_auxi_test_error)/10,\n",
    "       np.array(SIAM_auxi_5_train_error)/10,\n",
    "       np.array(SIAM_auxi_5_test_error)/10\n",
    "      ]\n",
    "labels= [\"NAIVE train\\n(1 hidden)\",\n",
    "         \"NAIVE test\\n(1 hidden)\",\n",
    "         \"SIAM_train\\n(1 hidden)\",\n",
    "         \"SIAM_test\\n(1 hidden)\",\n",
    "         \"SIAM+auxi train\\n(1 hidden)\",\n",
    "         \"SIAM+auxi test\\n(1 hidden)\",\n",
    "         \"SIAM+auxi train\\n(2 hidden)\",\n",
    "         \"SIAM+auxi test\\n(2 hidden)\"\n",
    "        ]\n",
    "\n",
    "plt.boxplot(vals, labels=labels, zorder=1)\n",
    "for i in range(len(vals)):\n",
    "    plt.plot([i+1]*10,vals[i],\".\", markersize=7, label=labels[i].replace('\\n', ' '))\n",
    "plt.hlines(15, xmin=0.5, xmax=8.5, ls='--', color='gray')\n",
    "plt.title(\"Models performance comparison\")\n",
    "plt.ylabel(\"error [%]\")\n",
    "plt.legend()\n",
    "plt.show()\n",
    "\n",
    "fig.savefig(\"models_error_boxplot_2.pdf\")"
   ]
  },
  {
   "cell_type": "code",
   "execution_count": 21,
   "id": "9d8ceabe",
   "metadata": {},
   "outputs": [
    {
     "data": {
      "text/plain": [
       "87878"
      ]
     },
     "execution_count": 21,
     "metadata": {},
     "output_type": "execute_result"
    }
   ],
   "source": [
    "sum(p.numel() for p in Siamese_auxi_5.parameters() if p.requires_grad)"
   ]
  },
  {
   "cell_type": "code",
   "execution_count": 22,
   "id": "68e01c77",
   "metadata": {},
   "outputs": [
    {
     "data": {
      "text/plain": [
       "82308"
      ]
     },
     "execution_count": 22,
     "metadata": {},
     "output_type": "execute_result"
    }
   ],
   "source": [
    "sum(p.numel() for p in Siamese_auxi.parameters() if p.requires_grad)"
   ]
  },
  {
   "cell_type": "code",
   "execution_count": 23,
   "id": "32cf5004",
   "metadata": {},
   "outputs": [
    {
     "data": {
      "text/plain": [
       "82308"
      ]
     },
     "execution_count": 23,
     "metadata": {},
     "output_type": "execute_result"
    }
   ],
   "source": [
    "sum(p.numel() for p in Siamese.parameters() if p.requires_grad)"
   ]
  },
  {
   "cell_type": "code",
   "execution_count": 25,
   "id": "39fd16e4",
   "metadata": {},
   "outputs": [],
   "source": [
    "val = [\n",
    "        NAIVE_test_error,\n",
    "        SIAM_test_error,\n",
    "        SIAM_auxi_test_error,\n",
    "        SIAM_auxi_5_test_error\n",
    "        ]"
   ]
  },
  {
   "cell_type": "code",
   "execution_count": 26,
   "id": "52d34592",
   "metadata": {},
   "outputs": [
    {
     "name": "stdout",
     "output_type": "stream",
     "text": [
      "2.135913834872558\n",
      "1.2856999805553393\n",
      "0.83828381232134\n",
      "1.2103805971676842\n"
     ]
    }
   ],
   "source": [
    "for i in range(len(val)):\n",
    "    print((np.random.choice(val[i], 1000)/10).std())"
   ]
  },
  {
   "cell_type": "code",
   "execution_count": 27,
   "id": "3d1f4d33",
   "metadata": {},
   "outputs": [
    {
     "name": "stdout",
     "output_type": "stream",
     "text": [
      "31.325100000000003\n",
      "16.303800000000003\n",
      "13.6849\n",
      "8.209200000000001\n"
     ]
    }
   ],
   "source": [
    "for i in range(len(val)):\n",
    "    print((np.random.choice(val[i], 1000)/10).mean())"
   ]
  },
  {
   "cell_type": "code",
   "execution_count": 28,
   "id": "39c796ca",
   "metadata": {},
   "outputs": [
    {
     "name": "stdout",
     "output_type": "stream",
     "text": [
      "68.6732\n",
      "83.6796\n",
      "86.3292\n",
      "91.7457\n"
     ]
    }
   ],
   "source": [
    "for i in range(len(val)):\n",
    "    print(100-(np.random.choice(val[i], 1000)/10).mean())"
   ]
  }
 ],
 "metadata": {
  "kernelspec": {
   "display_name": "ma2",
   "language": "python",
   "name": "ma2"
  },
  "language_info": {
   "codemirror_mode": {
    "name": "ipython",
    "version": 3
   },
   "file_extension": ".py",
   "mimetype": "text/x-python",
   "name": "python",
   "nbconvert_exporter": "python",
   "pygments_lexer": "ipython3",
   "version": "3.9.5"
  }
 },
 "nbformat": 4,
 "nbformat_minor": 5
}
